{
  "nbformat": 4,
  "nbformat_minor": 0,
  "metadata": {
    "colab": {
      "provenance": [],
      "authorship_tag": "ABX9TyMrdajklmwNEevp9dWq35G2",
      "include_colab_link": true
    },
    "kernelspec": {
      "name": "python3",
      "display_name": "Python 3"
    },
    "language_info": {
      "name": "python"
    }
  },
  "cells": [
    {
      "cell_type": "markdown",
      "metadata": {
        "id": "view-in-github",
        "colab_type": "text"
      },
      "source": [
        "<a href=\"https://colab.research.google.com/github/Sakibcheez/SakibPy/blob/main/numpy_demo.ipynb\" target=\"_parent\"><img src=\"https://colab.research.google.com/assets/colab-badge.svg\" alt=\"Open In Colab\"/></a>"
      ]
    },
    {
      "cell_type": "code",
      "source": [
        "import numpy as np\n",
        "import pandas as pd\n",
        "import matplotlib.pyplot as plt"
      ],
      "metadata": {
        "id": "GXq1FEMOWyov"
      },
      "execution_count": 1,
      "outputs": []
    },
    {
      "cell_type": "code",
      "execution_count": 2,
      "metadata": {
        "colab": {
          "base_uri": "https://localhost:8080/"
        },
        "id": "Jl1A2d89WvTn",
        "outputId": "05ca89df-d7f4-47ff-bc5a-1f1177142dca"
      },
      "outputs": [
        {
          "output_type": "stream",
          "name": "stdout",
          "text": [
            "1. Basic arrays:\n",
            "1D array: [1 2 3 4 5]\n",
            "2D array:\n",
            " [[1 2 3]\n",
            " [4 5 6]]\n"
          ]
        }
      ],
      "source": [
        "# 1. Creating arrays\n",
        "arr1 = np.array([1, 2, 3, 4, 5])\n",
        "arr2 = np.array([[1, 2, 3], [4, 5, 6]])\n",
        "print(\"1. Basic arrays:\")\n",
        "print(\"1D array:\", arr1)\n",
        "print(\"2D array:\\n\", arr2)"
      ]
    },
    {
      "cell_type": "code",
      "source": [
        "# 2. Array properties\n",
        "print(\"\\n2. Array properties:\")\n",
        "print(\"Shape:\", arr2.shape)\n",
        "print(\"Size:\", arr2.size)\n",
        "print(\"Data type:\", arr2.dtype)"
      ],
      "metadata": {
        "colab": {
          "base_uri": "https://localhost:8080/"
        },
        "id": "uUkTYGt2XIAn",
        "outputId": "2c6a9d51-a8dd-4c1e-b105-65e804435fc0"
      },
      "execution_count": 3,
      "outputs": [
        {
          "output_type": "stream",
          "name": "stdout",
          "text": [
            "\n",
            "2. Array properties:\n",
            "Shape: (2, 3)\n",
            "Size: 6\n",
            "Data type: int64\n"
          ]
        }
      ]
    },
    {
      "cell_type": "code",
      "source": [
        "print(\"\\n3. Array Properties:\")\n",
        "print(\"Shape:\", arr1.shape)\n",
        "print(\"Size:\", arr1.size)\n",
        "print(\"Data type:\", arr1.dtype)"
      ],
      "metadata": {
        "colab": {
          "base_uri": "https://localhost:8080/"
        },
        "id": "5iSRjGEaXS6j",
        "outputId": "8531d20c-3bcd-4ddb-d627-8c9c3b0881b0"
      },
      "execution_count": 5,
      "outputs": [
        {
          "output_type": "stream",
          "name": "stdout",
          "text": [
            "\n",
            "3. Array Properties:\n",
            "Shape: (5,)\n",
            "Size: 5\n",
            "Data type: int64\n"
          ]
        }
      ]
    },
    {
      "cell_type": "code",
      "source": [
        "# 3. Creating special arrays\n",
        "zeros = np.zeros((3, 3))\n",
        "ones = np.ones((2, 4))\n",
        "identity = np.eye(3)\n",
        "print(\"\\n3. Special arrays:\")\n",
        "print(\"Zeros array:\\n\", zeros)\n",
        "print(\"Ones array:\\n\", ones)\n",
        "print(\"Identity matrix:\\n\", identity)\n",
        "\n",
        "# 4. Array indexing and slicing\n",
        "arr = np.array([10, 20, 30, 40, 50])\n",
        "print(\"\\n4. Indexing and slicing:\")\n",
        "print(\"Element at index 2:\", arr[2])\n",
        "print(\"Slice [1:4]:\", arr[1:4])\n",
        "print(\"Last element:\", arr[-1])"
      ],
      "metadata": {
        "colab": {
          "base_uri": "https://localhost:8080/"
        },
        "id": "AGtlm9w8vJW3",
        "outputId": "1a8d9c19-8e4f-4fde-c4de-720edfbe806d"
      },
      "execution_count": 6,
      "outputs": [
        {
          "output_type": "stream",
          "name": "stdout",
          "text": [
            "\n",
            "3. Special arrays:\n",
            "Zeros array:\n",
            " [[0. 0. 0.]\n",
            " [0. 0. 0.]\n",
            " [0. 0. 0.]]\n",
            "Ones array:\n",
            " [[1. 1. 1. 1.]\n",
            " [1. 1. 1. 1.]]\n",
            "Identity matrix:\n",
            " [[1. 0. 0.]\n",
            " [0. 1. 0.]\n",
            " [0. 0. 1.]]\n",
            "\n",
            "4. Indexing and slicing:\n",
            "Element at index 2: 30\n",
            "Slice [1:4]: [20 30 40]\n",
            "Last element: 50\n"
          ]
        }
      ]
    },
    {
      "cell_type": "code",
      "source": [
        "# 5. Mathematical operations\n",
        "a = np.array([1, 2, 3, 4])\n",
        "b = np.array([5, 6, 7, 8])\n",
        "print(\"\\n5. Mathematical operations:\")\n",
        "print(\"Addition:\", a + b)\n",
        "print(\"Multiplication:\", a * b)\n",
        "print(\"Square root:\", np.sqrt(a))\n",
        "\n",
        "# 6. Statistical functions\n",
        "data = np.array([1, 2, 3, 4, 5, 6, 7, 8, 9, 10])\n",
        "print(\"\\n6. Statistical functions:\")\n",
        "print(\"Mean:\", np.mean(data))\n",
        "print(\"Standard deviation:\", np.std(data))\n",
        "print(\"Max:\", np.max(data))\n",
        "print(\"Min:\", np.min(data))"
      ],
      "metadata": {
        "colab": {
          "base_uri": "https://localhost:8080/"
        },
        "id": "lm4Pw8ejyzBX",
        "outputId": "2cfeac9d-6e5b-4860-eee4-c62911d86d7c"
      },
      "execution_count": 8,
      "outputs": [
        {
          "output_type": "stream",
          "name": "stdout",
          "text": [
            "\n",
            "5. Mathematical operations:\n",
            "Addition: [ 6  8 10 12]\n",
            "Multiplication: [ 5 12 21 32]\n",
            "Square root: [1.         1.41421356 1.73205081 2.        ]\n",
            "\n",
            "6. Statistical functions:\n",
            "Mean: 5.5\n",
            "Standard deviation: 2.8722813232690143\n",
            "Max: 10\n",
            "Min: 1\n"
          ]
        }
      ]
    },
    {
      "cell_type": "code",
      "source": [
        "# 7. Reshaping arrays\n",
        "original = np.array([1, 2, 3, 4, 5, 6])\n",
        "reshaped = original.reshape(2, 3)\n",
        "print(\"\\n7. Reshaping:\")\n",
        "print(\"Original:\", original)\n",
        "print(\"Reshaped (2x3):\\n\", reshaped)\n",
        "\n",
        "# 8. Boolean indexing\n",
        "arr = np.array([1, 2, 3, 4, 5, 6, 7, 8, 9, 10])\n",
        "mask = arr > 5\n",
        "print(\"\\n8. Boolean indexing:\")\n",
        "print(\"Original array:\", arr)\n",
        "print(\"Elements > 5:\", arr[mask])"
      ],
      "metadata": {
        "colab": {
          "base_uri": "https://localhost:8080/"
        },
        "id": "IS52w9Es0WU-",
        "outputId": "1e715024-fe86-431c-87ba-ebf15e40772d"
      },
      "execution_count": 9,
      "outputs": [
        {
          "output_type": "stream",
          "name": "stdout",
          "text": [
            "\n",
            "7. Reshaping:\n",
            "Original: [1 2 3 4 5 6]\n",
            "Reshaped (2x3):\n",
            " [[1 2 3]\n",
            " [4 5 6]]\n",
            "\n",
            "8. Boolean indexing:\n",
            "Original array: [ 1  2  3  4  5  6  7  8  9 10]\n",
            "Elements > 5: [ 6  7  8  9 10]\n"
          ]
        }
      ]
    },
    {
      "cell_type": "code",
      "source": [
        "# 9. Random number generation\n",
        "print(\"\\n9. Random numbers:\")\n",
        "print(\"Random integers:\", np.random.randint(1, 10, 5))\n",
        "print(\"Random floats:\", np.random.random(5))\n",
        "print(\"Normal distribution:\", np.random.normal(0, 1, 5))\n",
        "\n",
        "# 10. Linear algebra\n",
        "matrix1 = np.array([[1, 2], [3, 4]])\n",
        "matrix2 = np.array([[5, 6], [7, 8]])\n",
        "print(\"\\n10. Linear algebra:\")\n",
        "print(\"Matrix multiplication:\\n\", np.dot(matrix1, matrix2))\n",
        "print(\"Determinant:\", np.linalg.det(matrix1))"
      ],
      "metadata": {
        "colab": {
          "base_uri": "https://localhost:8080/"
        },
        "id": "wF6V2q4U0wmw",
        "outputId": "5ab86497-2dca-4a87-abd7-7b8924f0d9e6"
      },
      "execution_count": 10,
      "outputs": [
        {
          "output_type": "stream",
          "name": "stdout",
          "text": [
            "\n",
            "9. Random numbers:\n",
            "Random integers: [9 4 9 2 2]\n",
            "Random floats: [0.8156105  0.71862462 0.39294221 0.04910837 0.9924537 ]\n",
            "Normal distribution: [-0.34982058  1.01587057  0.10449034 -0.6032977   0.519774  ]\n",
            "\n",
            "10. Linear algebra:\n",
            "Matrix multiplication:\n",
            " [[19 22]\n",
            " [43 50]]\n",
            "Determinant: -2.0000000000000004\n"
          ]
        }
      ]
    },
    {
      "cell_type": "code",
      "metadata": {
        "colab": {
          "base_uri": "https://localhost:8080/"
        },
        "id": "fd75c88b",
        "outputId": "caa722b0-d6fb-411a-eeba-7e1cf6affb5b"
      },
      "source": [
        "# Create a NumPy array with many decimal places\n",
        "arr = np.array([1.123456789, 2.987654321, 3.1415926535])\n",
        "print(\"Original array:\")\n",
        "print(arr)\n",
        "\n",
        "# Set precision to 3 decimal places\n",
        "np.set_printoptions(precision=3)\n",
        "print(\"\\nArray with precision set to 3:\")\n",
        "print(arr)\n",
        "\n",
        "# Reset print options to default\n",
        "np.set_printoptions(precision=8) # Default precision is usually 8"
      ],
      "execution_count": 11,
      "outputs": [
        {
          "output_type": "stream",
          "name": "stdout",
          "text": [
            "Original array:\n",
            "[1.12345679 2.98765432 3.14159265]\n",
            "\n",
            "Array with precision set to 3:\n",
            "[1.123 2.988 3.142]\n"
          ]
        }
      ]
    },
    {
      "cell_type": "code",
      "source": [],
      "metadata": {
        "id": "7cmAd0tG3aEN"
      },
      "execution_count": null,
      "outputs": []
    }
  ]
}