{
 "cells": [
  {
   "cell_type": "code",
   "execution_count": 15,
   "id": "6582021d",
   "metadata": {},
   "outputs": [
    {
     "name": "stdout",
     "output_type": "stream",
     "text": [
      "7\n"
     ]
    }
   ],
   "source": [
    "print(3+4)\n"
   ]
  },
  {
   "cell_type": "code",
   "execution_count": null,
   "id": "fd5cadbd",
   "metadata": {},
   "outputs": [
    {
     "name": "stdout",
     "output_type": "stream",
     "text": [
      "sakib\n"
     ]
    }
   ],
   "source": [
    "name = input(\"Enter Your name: \")\n",
    "\n",
    "print(name)"
   ]
  },
  {
   "cell_type": "code",
   "execution_count": null,
   "id": "136dd5f1",
   "metadata": {},
   "outputs": [
    {
     "name": "stdout",
     "output_type": "stream",
     "text": [
      "Simple Calculator\n",
      "Select operation:\n",
      "1. Add\n",
      "2. Subtract\n",
      "3. Multiply\n",
      "4. Divide\n",
      "Result: 1.0\n"
     ]
    }
   ],
   "source": [
    "# Define calculator functions\n",
    "def add(x, y):\n",
    "    return x + y\n",
    "\n",
    "def subtract(x, y):\n",
    "    return x - y\n",
    "\n",
    "def multiply(x, y):\n",
    "    return x * y\n",
    "\n",
    "def divide(x, y):\n",
    "    if y != 0:\n",
    "        return x / y\n",
    "    else:\n",
    "        return \"Error: Cannot divide by zero\"\n",
    "\n",
    "# Main program starts here\n",
    "print(\"Simple Calculator\")\n",
    "print(\"Select operation:\")\n",
    "print(\"1. Add\")\n",
    "print(\"2. Subtract\")\n",
    "print(\"3. Multiply\")\n",
    "print(\"4. Divide\")\n",
    "\n",
    "choice = input(\"Enter choice (1/2/3/4): \")\n",
    "\n",
    "# Input two numbers\n",
    "num1 = float(input(\"Enter first number: \"))\n",
    "num2 = float(input(\"Enter second number: \"))\n",
    "\n",
    "# Perform operation based on choice\n",
    "if choice == '1':\n",
    "    print(\"Result:\", add(num1, num2))\n",
    "elif choice == '2':\n",
    "    print(\"Result:\", subtract(num1, num2))\n",
    "elif choice == '3':\n",
    "    print(\"Result:\", multiply(num1, num2))\n",
    "elif choice == '4':\n",
    "    print(\"Result:\", divide(num1, num2))\n",
    "else:\n",
    "    print(\"Invalid input\")\n"
   ]
  },
  {
   "cell_type": "code",
   "execution_count": null,
   "id": "40b29ef7",
   "metadata": {},
   "outputs": [
    {
     "name": "stdout",
     "output_type": "stream",
     "text": [
      "Hello Welcome to my 1st code\n",
      "zero\n"
     ]
    }
   ],
   "source": [
    "print(\"Hello Welcome to my 1st code\")\n",
    "\n",
    "number = float(input(\"Enter number: \"))\n",
    "\n",
    "if number > 0:\n",
    "    print(\"Positive number \")\n",
    "\n",
    "elif number < 0:\n",
    "    print(\"Number negetive\")\n",
    "\n",
    "else :\n",
    "    print(\"zero\")"
   ]
  },
  {
   "cell_type": "code",
   "execution_count": null,
   "id": "d30a1e34",
   "metadata": {},
   "outputs": [
    {
     "name": "stdout",
     "output_type": "stream",
     "text": [
      "First element: 10\n",
      "Last element: 50\n",
      "All elements:\n",
      "10\n",
      "20\n",
      "30\n",
      "40\n",
      "50\n",
      "Updated list: [10, 25, 30, 40, 50]\n"
     ]
    }
   ],
   "source": [
    "# Declare a list (array)\n",
    "numbers = [10, 20, 30, 40, 50]\n",
    "\n",
    "# Accessing elements\n",
    "print(\"First element:\", numbers[0])      # Index starts at 0\n",
    "print(\"Last element:\", numbers[-1])      # Negative index for last element\n",
    "\n",
    "# Loop through array\n",
    "print(\"All elements:\")\n",
    "for num in numbers:\n",
    "    print(num)\n",
    "\n",
    "# Modify an element\n",
    "numbers[1] = 25\n",
    "print(\"Updated list:\", numbers)\n"
   ]
  },
  {
   "cell_type": "code",
   "execution_count": null,
   "id": "04eaa57b",
   "metadata": {},
   "outputs": [
    {
     "name": "stdout",
     "output_type": "stream",
     "text": [
      "Using for loop:\n",
      "1\n",
      "2\n",
      "3\n",
      "4\n",
      "5\n"
     ]
    }
   ],
   "source": [
    "print(\"Using for loop:\")\n",
    "for i in range(1, 6):\n",
    "    print(i)"
   ]
  },
  {
   "cell_type": "code",
   "execution_count": null,
   "id": "db034c96",
   "metadata": {},
   "outputs": [
    {
     "name": "stdout",
     "output_type": "stream",
     "text": [
      "Using while loop:\n",
      "1\n",
      "2\n",
      "3\n",
      "4\n",
      "5\n"
     ]
    }
   ],
   "source": [
    "print(\"Using while loop:\")\n",
    "i = 1\n",
    "while i <= 5:\n",
    "    print(i)\n",
    "    i += 1\n"
   ]
  },
  {
   "cell_type": "code",
   "execution_count": 2,
   "id": "40846cb5",
   "metadata": {},
   "outputs": [
    {
     "name": "stdout",
     "output_type": "stream",
     "text": [
      "Name: Sakib, Age: 20\n",
      "Name: Aisha, Age: 19\n"
     ]
    }
   ],
   "source": [
    "# Define a class\n",
    "class Student:\n",
    "    # Constructor method to initialize data\n",
    "    def __init__(self, name, age):\n",
    "        self.name = name\n",
    "        self.age = age\n",
    "\n",
    "    # Method to display student info\n",
    "    def display_info(self):\n",
    "        print(f\"Name: {self.name}, Age: {self.age}\")\n",
    "\n",
    "# Create objects from the class\n",
    "student1 = Student(\"Sakib\", 20)\n",
    "student2 = Student(\"Aisha\", 19)\n",
    "\n",
    "# Call method using objects\n",
    "student1.display_info()\n",
    "student2.display_info()\n",
    "\n",
    "\n",
    "# class Student: defines a blueprint.\n",
    "\n",
    "# __init__ is the constructor; it runs automatically when you create an object.\n",
    "\n",
    "# student1 and student2 are objects (instances) of the Student class.\n",
    "\n",
    "# self refers to the current object.\n"
   ]
  },
  {
   "cell_type": "code",
   "execution_count": 3,
   "id": "df1e6ed7",
   "metadata": {},
   "outputs": [
    {
     "name": "stdout",
     "output_type": "stream",
     "text": [
      "4.0\n"
     ]
    }
   ],
   "source": [
    "import math\n",
    "\n",
    "print(math.sqrt(16)) "
   ]
  }
 ],
 "metadata": {
  "kernelspec": {
   "display_name": "Python 3",
   "language": "python",
   "name": "python3"
  },
  "language_info": {
   "codemirror_mode": {
    "name": "ipython",
    "version": 3
   },
   "file_extension": ".py",
   "mimetype": "text/x-python",
   "name": "python",
   "nbconvert_exporter": "python",
   "pygments_lexer": "ipython3",
   "version": "3.13.4"
  }
 },
 "nbformat": 4,
 "nbformat_minor": 5
}
