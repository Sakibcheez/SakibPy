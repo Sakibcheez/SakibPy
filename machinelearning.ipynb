{
  "nbformat": 4,
  "nbformat_minor": 0,
  "metadata": {
    "colab": {
      "provenance": [],
      "toc_visible": true,
      "authorship_tag": "ABX9TyMmlJ52KggejmLigbikX0rJ",
      "include_colab_link": true
    },
    "kernelspec": {
      "name": "python3",
      "display_name": "Python 3"
    },
    "language_info": {
      "name": "python"
    }
  },
  "cells": [
    {
      "cell_type": "markdown",
      "metadata": {
        "id": "view-in-github",
        "colab_type": "text"
      },
      "source": [
        "<a href=\"https://colab.research.google.com/github/Sakibcheez/SakibPy/blob/main/machinelearning.ipynb\" target=\"_parent\"><img src=\"https://colab.research.google.com/assets/colab-badge.svg\" alt=\"Open In Colab\"/></a>"
      ]
    },
    {
      "cell_type": "markdown",
      "source": [
        "# **Machine Learning **"
      ],
      "metadata": {
        "id": "a4pthbYWksqh"
      }
    },
    {
      "cell_type": "markdown",
      "source": [
        "# 1. Linear Regression (Predicting Continuous Values)**bold text**"
      ],
      "metadata": {
        "id": "dve4n7Rskneu"
      }
    },
    {
      "cell_type": "code",
      "execution_count": 1,
      "metadata": {
        "colab": {
          "base_uri": "https://localhost:8080/"
        },
        "id": "jB56pMzufOFY",
        "outputId": "125e3809-c3b1-4dc7-9c38-22583bc3e50d"
      },
      "outputs": [
        {
          "output_type": "stream",
          "name": "stdout",
          "text": [
            "Predicted score for 6 hours study: [90.]\n"
          ]
        }
      ],
      "source": [
        "from sklearn.linear_model import LinearRegression\n",
        "import numpy as np\n",
        "\n",
        "# Example data: study hours vs exam score\n",
        "X = np.array([[1], [2], [3], [4], [5]])  # hours studied\n",
        "y = np.array([40, 50, 60, 70, 80])       # exam score\n",
        "\n",
        "model = LinearRegression()\n",
        "model.fit(X, y)\n",
        "\n",
        "print(\"Predicted score for 6 hours study:\", model.predict([[6]]))\n"
      ]
    },
    {
      "cell_type": "code",
      "source": [
        "model.predict([[3.5]])"
      ],
      "metadata": {
        "colab": {
          "base_uri": "https://localhost:8080/"
        },
        "id": "4dilqEWLmF3Y",
        "outputId": "23edc358-c712-4b9c-e02f-e17995e4cdfa"
      },
      "execution_count": 2,
      "outputs": [
        {
          "output_type": "execute_result",
          "data": {
            "text/plain": [
              "array([65.])"
            ]
          },
          "metadata": {},
          "execution_count": 2
        }
      ]
    },
    {
      "cell_type": "markdown",
      "source": [
        "# 2. Logistic Regression (Binary Classification)**bold text**"
      ],
      "metadata": {
        "id": "PVTtLQy6mO6T"
      }
    },
    {
      "cell_type": "code",
      "source": [
        "from sklearn.linear_model import LogisticRegression\n",
        "\n",
        "# Example data: marks (X) and pass/fail (y)\n",
        "X = [[30], [50], [60], [80], [90]]\n",
        "y = [0, 0, 1, 1, 1]  # 0=Fail, 1=Pass\n",
        "\n",
        "model = LogisticRegression()\n",
        "model.fit(X, y)\n",
        "\n",
        "print(\"Will student with 70 marks pass?\", model.predict([[70]]))\n"
      ],
      "metadata": {
        "colab": {
          "base_uri": "https://localhost:8080/"
        },
        "id": "vGyzBZ-3mSfD",
        "outputId": "79c4b277-6711-4f58-bc6d-9522dc1fcfdd"
      },
      "execution_count": 3,
      "outputs": [
        {
          "output_type": "stream",
          "name": "stdout",
          "text": [
            "Will student with 70 marks pass? [1]\n"
          ]
        }
      ]
    },
    {
      "cell_type": "markdown",
      "source": [
        "# 3. K-Nearest Neighbors (KNN)**bold text**"
      ],
      "metadata": {
        "id": "bA43bht8md-8"
      }
    },
    {
      "cell_type": "code",
      "source": [
        "from sklearn.neighbors import KNeighborsClassifier\n",
        "\n",
        "X = [[1,1], [2,2], [3,3], [6,6], [7,7], [8,8]]\n",
        "y = [0, 0, 0, 1, 1, 1]  # 0=Group A, 1=Group B\n",
        "\n",
        "model = KNeighborsClassifier(n_neighbors=3)\n",
        "model.fit(X, y)\n",
        "\n",
        "print(\"Prediction for point [4,4]:\", model.predict([[4,4]]))\n"
      ],
      "metadata": {
        "colab": {
          "base_uri": "https://localhost:8080/"
        },
        "id": "E_8xgN9QmiIo",
        "outputId": "12fda3a4-9b3d-4106-a2b6-2aa11540510c"
      },
      "execution_count": 4,
      "outputs": [
        {
          "output_type": "stream",
          "name": "stdout",
          "text": [
            "Prediction for point [4,4]: [0]\n"
          ]
        }
      ]
    },
    {
      "cell_type": "markdown",
      "source": [
        "# 4. Support Vector Machine (SVM)**bold text**"
      ],
      "metadata": {
        "id": "ZoKenEWAnrup"
      }
    },
    {
      "cell_type": "code",
      "source": [
        "from sklearn.svm import SVC\n",
        "import matplotlib.pyplot as plt\n",
        "\n",
        "\n",
        "X = [[1,1], [2,2], [3,3], [8,8], [9,9], [10,10]]\n",
        "y = [0, 0, 0, 1, 1, 1]\n",
        "\n",
        "model = SVC(kernel='linear')\n",
        "model.fit(X, y)\n",
        "\n",
        "print(\"Prediction for point [4,4]:\", model.predict([[4,4]]))"
      ],
      "metadata": {
        "colab": {
          "base_uri": "https://localhost:8080/"
        },
        "id": "rQXVXwFsnvc3",
        "outputId": "1ea7ea93-7fdb-4977-a730-7561a755cc35"
      },
      "execution_count": 8,
      "outputs": [
        {
          "output_type": "stream",
          "name": "stdout",
          "text": [
            "Prediction for point [4,4]: [0]\n"
          ]
        }
      ]
    },
    {
      "cell_type": "markdown",
      "source": [
        "# 5. Naive **Bayes**"
      ],
      "metadata": {
        "id": "i8RsHc2-ogCf"
      }
    },
    {
      "cell_type": "code",
      "source": [
        "from sklearn.naive_bayes import GaussianNB\n",
        "\n",
        "X = [[1,20], [2,21], [3,22], [10,30], [11,31], [12,32]]\n",
        "y = [0,0,0,1,1,1]  # two groups\n",
        "\n",
        "model = GaussianNB()\n",
        "model.fit(X, y)\n",
        "\n",
        "print(\"Prediction for [4,23]:\", model.predict([[4,23]]))\n"
      ],
      "metadata": {
        "colab": {
          "base_uri": "https://localhost:8080/"
        },
        "id": "43onrvYLojRw",
        "outputId": "cbe0b4ab-9be5-473b-f170-b620612fdb63"
      },
      "execution_count": 9,
      "outputs": [
        {
          "output_type": "stream",
          "name": "stdout",
          "text": [
            "Prediction for [4,23]: [0]\n"
          ]
        }
      ]
    },
    {
      "cell_type": "markdown",
      "source": [
        "# 6. K-Means Clustering (Unsupervised)**bold text**"
      ],
      "metadata": {
        "id": "P6A4cNVjo6Jy"
      }
    },
    {
      "cell_type": "code",
      "source": [
        "from sklearn.cluster import KMeans\n",
        "\n",
        "X = [[1,1], [2,2], [3,3], [8,8], [9,9], [10,10]]\n",
        "\n",
        "kmeans = KMeans(n_clusters=2, random_state=0)\n",
        "kmeans.fit(X)\n",
        "\n",
        "print(\"Cluster for [4,4]:\", kmeans.predict([[4,4]]))\n"
      ],
      "metadata": {
        "colab": {
          "base_uri": "https://localhost:8080/"
        },
        "id": "1zhYrfrspQS4",
        "outputId": "a05e3cbe-85b5-4c4b-84c6-e5e418ac6a34"
      },
      "execution_count": 13,
      "outputs": [
        {
          "output_type": "stream",
          "name": "stdout",
          "text": [
            "Cluster for [4,4]: [1]\n"
          ]
        }
      ]
    },
    {
      "cell_type": "code",
      "source": [
        "import matplotlib.pyplot as plt\n",
        "\n",
        "plt.scatter([x[0] for x in X], [x[1] for x in X], c=kmeans.labels_, cmap='viridis')\n",
        "plt.xlabel(\"Feature 1\")\n",
        "plt.ylabel(\"Feature 2\")\n",
        "plt.title(\"K-Means Clustering\")\n",
        "plt.show()"
      ],
      "metadata": {
        "colab": {
          "base_uri": "https://localhost:8080/",
          "height": 472
        },
        "id": "wVdqsmmkpTAD",
        "outputId": "8884d50c-478b-4fec-e903-ee02a0a2c6f5"
      },
      "execution_count": 16,
      "outputs": [
        {
          "output_type": "display_data",
          "data": {
            "text/plain": [
              "<Figure size 640x480 with 1 Axes>"
            ],
            "image/png": "[encoded data removed]"
          },
          "metadata": {}
        }
      ]
    },
    {
      "cell_type": "markdown",
      "source": [],
      "metadata": {
        "id": "0QMz2qbjppFi"
      }
    },
    {
      "cell_type": "markdown",
      "source": [
        "# **7. Decision Tree**"
      ],
      "metadata": {
        "id": "s3p3x-C3pq0A"
      }
    },
    {
      "cell_type": "code",
      "source": [
        "from sklearn.tree import DecisionTreeClassifier\n",
        "\n",
        "X = [[1,1], [2,2], [3,3], [8,8], [9,9], [10,10]]\n",
        "y = [0, 0, 0, 1, 1, 1]\n",
        "\n",
        "model = DecisionTreeClassifier()\n",
        "model.fit(X, y)\n",
        "\n",
        "print(\"Prediction for [4,4]:\", model.predict([[4,4]]))\n"
      ],
      "metadata": {
        "colab": {
          "base_uri": "https://localhost:8080/"
        },
        "id": "4dG2gzIapunS",
        "outputId": "68076510-fcdc-4aa4-a6b2-a3c395d8e760"
      },
      "execution_count": 18,
      "outputs": [
        {
          "output_type": "stream",
          "name": "stdout",
          "text": [
            "Prediction for [4,4]: [0]\n"
          ]
        }
      ]
    },
    {
      "cell_type": "markdown",
      "source": [
        "# 8. Random **Forest**"
      ],
      "metadata": {
        "id": "DKcgOa7Ip1CF"
      }
    },
    {
      "cell_type": "code",
      "source": [
        "from sklearn.ensemble import RandomForestClassifier\n",
        "\n",
        "X = [[1,1], [2,2], [3,3], [8,8], [9,9], [10,10]]\n",
        "y = [0, 0, 0, 1, 1, 1]\n",
        "\n",
        "model = RandomForestClassifier(n_estimators=10, random_state=0)\n",
        "model.fit(X, y)\n",
        "\n",
        "print(\"Prediction for [4,4]:\", model.predict([[4,4]]))\n"
      ],
      "metadata": {
        "colab": {
          "base_uri": "https://localhost:8080/"
        },
        "id": "CsGYGrgup2Q9",
        "outputId": "0324f6de-7f49-438d-ae81-32807b869e06"
      },
      "execution_count": 19,
      "outputs": [
        {
          "output_type": "stream",
          "name": "stdout",
          "text": [
            "Prediction for [4,4]: [0]\n"
          ]
        }
      ]
    }
  ]
}